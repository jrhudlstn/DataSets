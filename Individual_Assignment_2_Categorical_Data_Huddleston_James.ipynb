{
 "cells": [
  {
   "cell_type": "code",
   "execution_count": 26,
   "metadata": {},
   "outputs": [],
   "source": [
    "#  Author: James Huddleston\n",
    "import pandas as pd\n",
    "import numpy as np\n",
    "import matplotlib.pyplot as plt\n",
    "import seaborn as sns\n",
    "import matplotlib.ticker as ticker\n",
    "import matplotlib.cm as cm\n",
    "import matplotlib as mpl\n",
    "from matplotlib.gridspec import GridSpec\n",
    "import matplotlib.pyplot as plt\n",
    "sns.set()"
   ]
  },
  {
   "cell_type": "code",
   "execution_count": 27,
   "metadata": {},
   "outputs": [],
   "source": [
    "#\n",
    "#l  oad data set csv from url as df\n",
    "df = pd.read_csv('https://raw.githubusercontent.com/jrhudlstn/DataSets/master/universityRanking2012.csv') \n",
    "df_csv=df.copy()"
   ]
  },
  {
   "cell_type": "code",
   "execution_count": null,
   "metadata": {},
   "outputs": [],
   "source": []
  },
  {
   "cell_type": "code",
   "execution_count": 28,
   "metadata": {},
   "outputs": [],
   "source": [
    "# select out only the attributes needed for the analysis requirements for the Smith family, John (john_df) and Jane (jane_df).\n",
    "# the .copy() functions is used to not copy over the original df . Without .copy() the first, john_df might change the df and jane_df would be contaminated.\n",
    "john_df = df[[ 'alumni_employment','institution','country']].copy()\n",
    "jane_df = df[['publications', 'institution','country']].copy()"
   ]
  },
  {
   "cell_type": "code",
   "execution_count": 29,
   "metadata": {},
   "outputs": [
    {
     "name": "stdout",
     "output_type": "stream",
     "text": [
      "____\n"
     ]
    },
    {
     "data": {
      "text/plain": [
       "alumni_employment    0\n",
       "institution          0\n",
       "country              0\n",
       "dtype: int64"
      ]
     },
     "execution_count": 29,
     "metadata": {},
     "output_type": "execute_result"
    }
   ],
   "source": [
    "#print(jane_df.head(33)) # list Jane's df from the raw data for first 33 \n",
    "# does John or Jane's dataframe contain missing values?\n",
    "print(\"____\")\n",
    "john_df.isnull().sum()\n",
    "# no missing values, no data cleansing needed"
   ]
  },
  {
   "cell_type": "code",
   "execution_count": 30,
   "metadata": {},
   "outputs": [
    {
     "name": "stdout",
     "output_type": "stream",
     "text": [
      "____\n"
     ]
    },
    {
     "data": {
      "text/plain": [
       "publications    0\n",
       "institution     0\n",
       "country         0\n",
       "dtype: int64"
      ]
     },
     "execution_count": 30,
     "metadata": {},
     "output_type": "execute_result"
    }
   ],
   "source": [
    "print(\"____\")\n",
    "jane_df.isnull().sum()\n",
    "# no missing values, no data cleansing needed"
   ]
  },
  {
   "cell_type": "code",
   "execution_count": 31,
   "metadata": {},
   "outputs": [],
   "source": [
    "# first step is to create a list based on country attribute for each child: Jane and John.\n",
    "john_df_country = john_df['country']=='USA' \n",
    "#jane_df_country = "
   ]
  },
  {
   "cell_type": "code",
   "execution_count": 32,
   "metadata": {},
   "outputs": [
    {
     "name": "stdout",
     "output_type": "stream",
     "text": [
      "(2200,)\n"
     ]
    }
   ],
   "source": [
    "print(john_df_country.shape)"
   ]
  },
  {
   "cell_type": "code",
   "execution_count": 33,
   "metadata": {},
   "outputs": [
    {
     "name": "stdout",
     "output_type": "stream",
     "text": [
      "0     True\n",
      "1     True\n",
      "2     True\n",
      "3    False\n",
      "4     True\n",
      "Name: country, dtype: bool\n"
     ]
    }
   ],
   "source": [
    "print(john_df_country.head())"
   ]
  },
  {
   "cell_type": "code",
   "execution_count": 34,
   "metadata": {},
   "outputs": [
    {
     "name": "stdout",
     "output_type": "stream",
     "text": [
      "      publications                            institution         country\n",
      "0                1                     Harvard University             USA\n",
      "1               12  Massachusetts Institute of Technology             USA\n",
      "2                4                    Stanford University             USA\n",
      "3               16                University of Cambridge  United Kingdom\n",
      "4               37     California Institute of Technology             USA\n",
      "...            ...                                    ...             ...\n",
      "2105           888                     Oakland University             USA\n",
      "2112           917             University of North Dakota             USA\n",
      "2128           910         University of Texas at El Paso             USA\n",
      "2135           899       University of California, Merced             USA\n",
      "2137           946       University of Central Lancashire  United Kingdom\n",
      "\n",
      "[739 rows x 3 columns]\n"
     ]
    }
   ],
   "source": [
    "# create a data set of boolean values \n",
    "john_countrys = ['USA', 'United Kingdom']\n",
    "jane_countrys =['USA', 'United Kingdom', 'Israel']\n",
    "john_choosen_countrys=john_df[john_df.country.isin(john_countrys)]\n",
    "john_choosen_countrys.shape\n",
    "jane_choosen_countrys=jane_df[jane_df.country.isin(jane_countrys)]\n",
    "jane_choosen_countrys.shape\n",
    "# use the above boolean data set created to select out matching rows\n",
    "# below is the array of childrens selected countries. These arrays are used to do the rest of the comparisons. \n",
    "#john_choosen_countrys.country.unique()\n",
    "#jane_choosen_countrys.country.unique()\n",
    "#print(john_choosen_countrys.head())\n",
    "#print(jane_choosen_countrys.head())\n",
    "#print(john_choosen_countrys) # print the new array for john for his choice in country's\n",
    "print(jane_choosen_countrys) # print the new array for jane for her choice in country's"
   ]
  },
  {
   "cell_type": "code",
   "execution_count": 35,
   "metadata": {},
   "outputs": [],
   "source": [
    "# take the newly created dataframes for Jane and John and subset  rows universities \n",
    "#that will be choosen exist in the top ten rows.\n",
    "john_choosen_countrys_employ = john_choosen_countrys[['alumni_employment', 'institution','country']]#[:10]\n",
    "jane_choosen_countrys_public = jane_choosen_countrys[[ 'publications', 'institution','country']]#[:10]"
   ]
  },
  {
   "cell_type": "code",
   "execution_count": 36,
   "metadata": {},
   "outputs": [],
   "source": [
    "#print(john_choosen_countrys_employ)\n",
    "#print(jane_choosen_countrys_public)"
   ]
  },
  {
   "cell_type": "code",
   "execution_count": 37,
   "metadata": {},
   "outputs": [
    {
     "data": {
      "text/html": [
       "<div>\n",
       "<style scoped>\n",
       "    .dataframe tbody tr th:only-of-type {\n",
       "        vertical-align: middle;\n",
       "    }\n",
       "\n",
       "    .dataframe tbody tr th {\n",
       "        vertical-align: top;\n",
       "    }\n",
       "\n",
       "    .dataframe thead th {\n",
       "        text-align: right;\n",
       "    }\n",
       "</style>\n",
       "<table border=\"1\" class=\"dataframe\">\n",
       "  <thead>\n",
       "    <tr style=\"text-align: right;\">\n",
       "      <th></th>\n",
       "      <th>alumni_employment</th>\n",
       "      <th>institution</th>\n",
       "      <th>country</th>\n",
       "    </tr>\n",
       "  </thead>\n",
       "  <tbody>\n",
       "    <tr>\n",
       "      <th>0</th>\n",
       "      <td>13.0</td>\n",
       "      <td>Harvard University</td>\n",
       "      <td>USA</td>\n",
       "    </tr>\n",
       "    <tr>\n",
       "      <th>1</th>\n",
       "      <td>37.0</td>\n",
       "      <td>Massachusetts Institute of Technology</td>\n",
       "      <td>USA</td>\n",
       "    </tr>\n",
       "    <tr>\n",
       "      <th>2</th>\n",
       "      <td>17.0</td>\n",
       "      <td>Stanford University</td>\n",
       "      <td>USA</td>\n",
       "    </tr>\n",
       "    <tr>\n",
       "      <th>3</th>\n",
       "      <td>55.0</td>\n",
       "      <td>University of Cambridge</td>\n",
       "      <td>United Kingdom</td>\n",
       "    </tr>\n",
       "    <tr>\n",
       "      <th>4</th>\n",
       "      <td>68.5</td>\n",
       "      <td>California Institute of Technology</td>\n",
       "      <td>USA</td>\n",
       "    </tr>\n",
       "    <tr>\n",
       "      <th>...</th>\n",
       "      <td>...</td>\n",
       "      <td>...</td>\n",
       "      <td>...</td>\n",
       "    </tr>\n",
       "    <tr>\n",
       "      <th>2105</th>\n",
       "      <td>674.0</td>\n",
       "      <td>Oakland University</td>\n",
       "      <td>USA</td>\n",
       "    </tr>\n",
       "    <tr>\n",
       "      <th>2112</th>\n",
       "      <td>674.0</td>\n",
       "      <td>University of North Dakota</td>\n",
       "      <td>USA</td>\n",
       "    </tr>\n",
       "    <tr>\n",
       "      <th>2128</th>\n",
       "      <td>506.5</td>\n",
       "      <td>University of Texas at El Paso</td>\n",
       "      <td>USA</td>\n",
       "    </tr>\n",
       "    <tr>\n",
       "      <th>2135</th>\n",
       "      <td>674.0</td>\n",
       "      <td>University of California, Merced</td>\n",
       "      <td>USA</td>\n",
       "    </tr>\n",
       "    <tr>\n",
       "      <th>2137</th>\n",
       "      <td>621.0</td>\n",
       "      <td>University of Central Lancashire</td>\n",
       "      <td>United Kingdom</td>\n",
       "    </tr>\n",
       "  </tbody>\n",
       "</table>\n",
       "<p>717 rows × 3 columns</p>\n",
       "</div>"
      ],
      "text/plain": [
       "      alumni_employment                            institution         country\n",
       "0                  13.0                     Harvard University             USA\n",
       "1                  37.0  Massachusetts Institute of Technology             USA\n",
       "2                  17.0                    Stanford University             USA\n",
       "3                  55.0                University of Cambridge  United Kingdom\n",
       "4                  68.5     California Institute of Technology             USA\n",
       "...                 ...                                    ...             ...\n",
       "2105              674.0                     Oakland University             USA\n",
       "2112              674.0             University of North Dakota             USA\n",
       "2128              506.5         University of Texas at El Paso             USA\n",
       "2135              674.0       University of California, Merced             USA\n",
       "2137              621.0       University of Central Lancashire  United Kingdom\n",
       "\n",
       "[717 rows x 3 columns]"
      ]
     },
     "execution_count": 37,
     "metadata": {},
     "output_type": "execute_result"
    }
   ],
   "source": [
    "# rank the employment \n",
    "john_choosen_countrys_employ[\"alumni_employment\"] = john_choosen_countrys_employ[\"alumni_employment\"].rank() \n",
    "john_choosen_countrys_employ"
   ]
  },
  {
   "cell_type": "code",
   "execution_count": 38,
   "metadata": {},
   "outputs": [
    {
     "data": {
      "text/html": [
       "<div>\n",
       "<style scoped>\n",
       "    .dataframe tbody tr th:only-of-type {\n",
       "        vertical-align: middle;\n",
       "    }\n",
       "\n",
       "    .dataframe tbody tr th {\n",
       "        vertical-align: top;\n",
       "    }\n",
       "\n",
       "    .dataframe thead th {\n",
       "        text-align: right;\n",
       "    }\n",
       "</style>\n",
       "<table border=\"1\" class=\"dataframe\">\n",
       "  <thead>\n",
       "    <tr style=\"text-align: right;\">\n",
       "      <th></th>\n",
       "      <th>publications</th>\n",
       "      <th>institution</th>\n",
       "      <th>country</th>\n",
       "    </tr>\n",
       "  </thead>\n",
       "  <tbody>\n",
       "    <tr>\n",
       "      <th>0</th>\n",
       "      <td>2.5</td>\n",
       "      <td>Harvard University</td>\n",
       "      <td>USA</td>\n",
       "    </tr>\n",
       "    <tr>\n",
       "      <th>1</th>\n",
       "      <td>41.0</td>\n",
       "      <td>Massachusetts Institute of Technology</td>\n",
       "      <td>USA</td>\n",
       "    </tr>\n",
       "    <tr>\n",
       "      <th>2</th>\n",
       "      <td>11.5</td>\n",
       "      <td>Stanford University</td>\n",
       "      <td>USA</td>\n",
       "    </tr>\n",
       "    <tr>\n",
       "      <th>3</th>\n",
       "      <td>54.5</td>\n",
       "      <td>University of Cambridge</td>\n",
       "      <td>United Kingdom</td>\n",
       "    </tr>\n",
       "    <tr>\n",
       "      <th>4</th>\n",
       "      <td>119.0</td>\n",
       "      <td>California Institute of Technology</td>\n",
       "      <td>USA</td>\n",
       "    </tr>\n",
       "    <tr>\n",
       "      <th>...</th>\n",
       "      <td>...</td>\n",
       "      <td>...</td>\n",
       "      <td>...</td>\n",
       "    </tr>\n",
       "    <tr>\n",
       "      <th>2105</th>\n",
       "      <td>685.0</td>\n",
       "      <td>Oakland University</td>\n",
       "      <td>USA</td>\n",
       "    </tr>\n",
       "    <tr>\n",
       "      <th>2112</th>\n",
       "      <td>703.0</td>\n",
       "      <td>University of North Dakota</td>\n",
       "      <td>USA</td>\n",
       "    </tr>\n",
       "    <tr>\n",
       "      <th>2128</th>\n",
       "      <td>699.5</td>\n",
       "      <td>University of Texas at El Paso</td>\n",
       "      <td>USA</td>\n",
       "    </tr>\n",
       "    <tr>\n",
       "      <th>2135</th>\n",
       "      <td>690.5</td>\n",
       "      <td>University of California, Merced</td>\n",
       "      <td>USA</td>\n",
       "    </tr>\n",
       "    <tr>\n",
       "      <th>2137</th>\n",
       "      <td>720.0</td>\n",
       "      <td>University of Central Lancashire</td>\n",
       "      <td>United Kingdom</td>\n",
       "    </tr>\n",
       "  </tbody>\n",
       "</table>\n",
       "<p>739 rows × 3 columns</p>\n",
       "</div>"
      ],
      "text/plain": [
       "      publications                            institution         country\n",
       "0              2.5                     Harvard University             USA\n",
       "1             41.0  Massachusetts Institute of Technology             USA\n",
       "2             11.5                    Stanford University             USA\n",
       "3             54.5                University of Cambridge  United Kingdom\n",
       "4            119.0     California Institute of Technology             USA\n",
       "...            ...                                    ...             ...\n",
       "2105         685.0                     Oakland University             USA\n",
       "2112         703.0             University of North Dakota             USA\n",
       "2128         699.5         University of Texas at El Paso             USA\n",
       "2135         690.5       University of California, Merced             USA\n",
       "2137         720.0       University of Central Lancashire  United Kingdom\n",
       "\n",
       "[739 rows x 3 columns]"
      ]
     },
     "execution_count": 38,
     "metadata": {},
     "output_type": "execute_result"
    }
   ],
   "source": [
    "# rank the publications\n",
    "jane_choosen_countrys_public[\"publications\"] = jane_choosen_countrys_public[\"publications\"].rank()\n",
    "jane_choosen_countrys_public"
   ]
  },
  {
   "cell_type": "code",
   "execution_count": null,
   "metadata": {},
   "outputs": [],
   "source": [
    "\n"
   ]
  },
  {
   "cell_type": "code",
   "execution_count": null,
   "metadata": {},
   "outputs": [],
   "source": []
  },
  {
   "cell_type": "code",
   "execution_count": 39,
   "metadata": {},
   "outputs": [
    {
     "data": {
      "text/html": [
       "<div>\n",
       "<style scoped>\n",
       "    .dataframe tbody tr th:only-of-type {\n",
       "        vertical-align: middle;\n",
       "    }\n",
       "\n",
       "    .dataframe tbody tr th {\n",
       "        vertical-align: top;\n",
       "    }\n",
       "\n",
       "    .dataframe thead th {\n",
       "        text-align: right;\n",
       "    }\n",
       "</style>\n",
       "<table border=\"1\" class=\"dataframe\">\n",
       "  <thead>\n",
       "    <tr style=\"text-align: right;\">\n",
       "      <th></th>\n",
       "      <th>publications</th>\n",
       "      <th>institution</th>\n",
       "      <th>country</th>\n",
       "      <th>rank_publications</th>\n",
       "    </tr>\n",
       "  </thead>\n",
       "  <tbody>\n",
       "    <tr>\n",
       "      <th>0</th>\n",
       "      <td>1</td>\n",
       "      <td>Harvard University</td>\n",
       "      <td>USA</td>\n",
       "      <td>2.5</td>\n",
       "    </tr>\n",
       "    <tr>\n",
       "      <th>200</th>\n",
       "      <td>1</td>\n",
       "      <td>Harvard University</td>\n",
       "      <td>USA</td>\n",
       "      <td>2.5</td>\n",
       "    </tr>\n",
       "    <tr>\n",
       "      <th>100</th>\n",
       "      <td>1</td>\n",
       "      <td>Harvard University</td>\n",
       "      <td>USA</td>\n",
       "      <td>2.5</td>\n",
       "    </tr>\n",
       "    <tr>\n",
       "      <th>1200</th>\n",
       "      <td>1</td>\n",
       "      <td>Harvard University</td>\n",
       "      <td>USA</td>\n",
       "      <td>2.5</td>\n",
       "    </tr>\n",
       "    <tr>\n",
       "      <th>33</th>\n",
       "      <td>2</td>\n",
       "      <td>University of Michigan, Ann Arbor</td>\n",
       "      <td>USA</td>\n",
       "      <td>5.0</td>\n",
       "    </tr>\n",
       "    <tr>\n",
       "      <th>...</th>\n",
       "      <td>...</td>\n",
       "      <td>...</td>\n",
       "      <td>...</td>\n",
       "      <td>...</td>\n",
       "    </tr>\n",
       "    <tr>\n",
       "      <th>1644</th>\n",
       "      <td>988</td>\n",
       "      <td>University of Dayton</td>\n",
       "      <td>USA</td>\n",
       "      <td>735.0</td>\n",
       "    </tr>\n",
       "    <tr>\n",
       "      <th>737</th>\n",
       "      <td>991</td>\n",
       "      <td>University of Dayton</td>\n",
       "      <td>USA</td>\n",
       "      <td>736.0</td>\n",
       "    </tr>\n",
       "    <tr>\n",
       "      <th>1034</th>\n",
       "      <td>992</td>\n",
       "      <td>Queens College, City University of New York</td>\n",
       "      <td>USA</td>\n",
       "      <td>737.0</td>\n",
       "    </tr>\n",
       "    <tr>\n",
       "      <th>822</th>\n",
       "      <td>993</td>\n",
       "      <td>Albany Medical College</td>\n",
       "      <td>USA</td>\n",
       "      <td>738.0</td>\n",
       "    </tr>\n",
       "    <tr>\n",
       "      <th>2029</th>\n",
       "      <td>1000</td>\n",
       "      <td>University of Wales, Trinity Saint David</td>\n",
       "      <td>United Kingdom</td>\n",
       "      <td>739.0</td>\n",
       "    </tr>\n",
       "  </tbody>\n",
       "</table>\n",
       "<p>739 rows × 4 columns</p>\n",
       "</div>"
      ],
      "text/plain": [
       "      publications                                  institution  \\\n",
       "0                1                           Harvard University   \n",
       "200              1                           Harvard University   \n",
       "100              1                           Harvard University   \n",
       "1200             1                           Harvard University   \n",
       "33               2            University of Michigan, Ann Arbor   \n",
       "...            ...                                          ...   \n",
       "1644           988                         University of Dayton   \n",
       "737            991                         University of Dayton   \n",
       "1034           992  Queens College, City University of New York   \n",
       "822            993                       Albany Medical College   \n",
       "2029          1000     University of Wales, Trinity Saint David   \n",
       "\n",
       "             country  rank_publications  \n",
       "0                USA                2.5  \n",
       "200              USA                2.5  \n",
       "100              USA                2.5  \n",
       "1200             USA                2.5  \n",
       "33               USA                5.0  \n",
       "...              ...                ...  \n",
       "1644             USA              735.0  \n",
       "737              USA              736.0  \n",
       "1034             USA              737.0  \n",
       "822              USA              738.0  \n",
       "2029  United Kingdom              739.0  \n",
       "\n",
       "[739 rows x 4 columns]"
      ]
     },
     "execution_count": 39,
     "metadata": {},
     "output_type": "execute_result"
    }
   ],
   "source": [
    "john_choosen_countrys_employ = john_choosen_countrys[[ 'alumni_employment', 'institution','country']]#[:10]\n",
    "jane_choosen_countrys_public = jane_choosen_countrys[[ 'publications', 'institution','country']]#[:10]\n",
    "#\n",
    "john_choosen_countrys_employ[\"rank_quality_of_employment\"] = john_choosen_countrys_employ[\"alumni_employment\"].rank() \n",
    "john_choosen_countrys_employ.sort_values(\"rank_quality_of_employment\", inplace=True)\n",
    "john_choosen_countrys_employ\n",
    "#\n",
    "jane_choosen_countrys_public[\"rank_publications\"] = jane_choosen_countrys_public [\"publications\"].rank()\n",
    "jane_choosen_countrys_public.sort_values(\"rank_publications\", inplace=True)\n",
    "jane_choosen_countrys_public"
   ]
  },
  {
   "cell_type": "code",
   "execution_count": 40,
   "metadata": {},
   "outputs": [],
   "source": [
    "from collections import Counter"
   ]
  },
  {
   "cell_type": "code",
   "execution_count": 41,
   "metadata": {},
   "outputs": [
    {
     "name": "stdout",
     "output_type": "stream",
     "text": [
      "Counter({'USA': 573, 'United Kingdom': 144})\n",
      "Counter({'USA': 573, 'United Kingdom': 144, 'Israel': 22})\n"
     ]
    }
   ],
   "source": [
    "print(Counter(john_choosen_countrys_employ['country']))\n",
    "print(Counter(jane_choosen_countrys_public['country']))"
   ]
  },
  {
   "cell_type": "code",
   "execution_count": 42,
   "metadata": {},
   "outputs": [],
   "source": [
    "title_type_john = john_choosen_countrys_employ.groupby('country').agg('count')\n",
    "title_type_jane = jane_choosen_countrys_public.groupby('country').agg('count')\n",
    "#print(title_type)"
   ]
  },
  {
   "cell_type": "code",
   "execution_count": 43,
   "metadata": {},
   "outputs": [],
   "source": [
    "# john\n",
    "type_labels = title_type_john.rank_quality_of_employment.sort_values().index \n",
    "type_counts = title_type_john.rank_quality_of_employment.sort_values()\n",
    "#jane\n",
    "#type_labels = title_type-jane.rank_publications.sort_values().index \n",
    "#type_counts = title_type-jane.rank_publications.sort_values()"
   ]
  },
  {
   "cell_type": "code",
   "execution_count": 44,
   "metadata": {},
   "outputs": [
    {
     "data": {
      "text/plain": [
       "<Figure size 1440x720 with 0 Axes>"
      ]
     },
     "metadata": {},
     "output_type": "display_data"
    }
   ],
   "source": [
    "plt.figure(1, figsize=(20,10)) \n",
    "the_grid = GridSpec(2, 2)"
   ]
  },
  {
   "cell_type": "code",
   "execution_count": 45,
   "metadata": {},
   "outputs": [],
   "source": [
    "cmap = plt.get_cmap('Spectral')\n",
    "colors = [cmap(i) for i in np.linspace(0, 1, 8)]"
   ]
  },
  {
   "cell_type": "code",
   "execution_count": 46,
   "metadata": {},
   "outputs": [
    {
     "data": {
      "image/png": "[encoded data removed]",
      "text/plain": [
       "<Figure size 432x288 with 1 Axes>"
      ]
     },
     "metadata": {},
     "output_type": "display_data"
    }
   ],
   "source": [
    "plt.subplot(the_grid[0, 1], aspect=1, title='Frequency of Countries')\n",
    "type_show_ids = plt.pie(type_counts, labels=type_labels, autopct='%1.1f%%', shadow=True)\n",
    "plt.show()"
   ]
  },
  {
   "cell_type": "code",
   "execution_count": null,
   "metadata": {},
   "outputs": [],
   "source": []
  },
  {
   "cell_type": "code",
   "execution_count": null,
   "metadata": {},
   "outputs": [],
   "source": []
  }
 ],
 "metadata": {
  "kernelspec": {
   "display_name": "Python 3",
   "language": "python",
   "name": "python3"
  },
  "language_info": {
   "codemirror_mode": {
    "name": "ipython",
    "version": 3
   },
   "file_extension": ".py",
   "mimetype": "text/x-python",
   "name": "python",
   "nbconvert_exporter": "python",
   "pygments_lexer": "ipython3",
   "version": "3.7.6"
  }
 },
 "nbformat": 4,
 "nbformat_minor": 4
}

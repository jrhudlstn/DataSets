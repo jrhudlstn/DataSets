{
  "nbformat": 4,
  "nbformat_minor": 0,
  "metadata": {
    "colab": {
      "name": "essentials_ML.ipynb",
      "provenance": [],
      "authorship_tag": "ABX9TyPoY55hDZhWOXdPRmSJC0NI",
      "include_colab_link": true
    },
    "kernelspec": {
      "name": "python3",
      "display_name": "Python 3"
    }
  },
  "cells": [
    {
      "cell_type": "markdown",
      "metadata": {
        "id": "view-in-github",
        "colab_type": "text"
      },
      "source": [
        "<a href=\"https://colab.research.google.com/github/jrhudlstn/DataSets/blob/master/essentials_ML.ipynb\" target=\"_parent\"><img src=\"https://colab.research.google.com/assets/colab-badge.svg\" alt=\"Open In Colab\"/></a>"
      ]
    },
    {
      "cell_type": "code",
      "metadata": {
        "id": "dWpmlu4KTDwJ"
      },
      "source": [
        "import pandas as pd\r\n"
      ],
      "execution_count": 1,
      "outputs": []
    }
  ]
}